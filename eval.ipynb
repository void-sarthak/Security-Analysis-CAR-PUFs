{
 "cells": [
  {
   "cell_type": "code",
   "metadata": {
    "id": "hhdpwdE1z5aU",
    "ExecuteTime": {
     "end_time": "2024-11-24T08:55:41.105981Z",
     "start_time": "2024-11-24T08:55:40.636146Z"
    }
   },
   "source": [
    "import numpy as np\n",
    "from submit import my_map\n",
    "from submit import my_fit\n",
    "import time as tm"
   ],
   "outputs": [],
   "execution_count": 1
  },
  {
   "cell_type": "code",
   "metadata": {
    "colab": {
     "base_uri": "https://localhost:8080/",
     "height": 214
    },
    "id": "x0salcYbPVeY",
    "outputId": "fb7991f9-29ff-412c-b318-8a020fe9c8e6",
    "ExecuteTime": {
     "end_time": "2024-11-24T08:55:41.677139Z",
     "start_time": "2024-11-24T08:55:41.623188Z"
    }
   },
   "source": [
    "Z_trn = np.loadtxt( \"train.dat\" )\n",
    "Z_tst = np.loadtxt( \"test.dat\" )\n",
    "\n",
    "n_trials = 5\n",
    "\n",
    "d_size = 0\n",
    "t_train = 0\n",
    "t_map = 0\n",
    "acc = 0"
   ],
   "outputs": [],
   "execution_count": 2
  },
  {
   "cell_type": "code",
   "metadata": {
    "id": "hwn4Alu6Pz1u",
    "ExecuteTime": {
     "end_time": "2024-11-24T08:55:44.299023Z",
     "start_time": "2024-11-24T08:55:43.473456Z"
    }
   },
   "source": [
    "for t in range( n_trials ):\n",
    "\ttic = tm.perf_counter()\n",
    "\tw, b = my_fit( Z_trn[:, :-1], Z_trn[:,-1] )\n",
    "\ttoc = tm.perf_counter()\n",
    "\tt_train += toc - tic\n",
    "\n",
    "\td_size += w.shape[0]\n",
    "\n",
    "\ttic = tm.perf_counter()\n",
    "\tfeat = my_map( Z_tst[:, :-1] )\n",
    "\ttoc = tm.perf_counter()\n",
    "\tt_map += toc - tic\n",
    "\n",
    "\tscores = feat.dot( w ) + b\n",
    "\tpred = np.zeros_like( scores )\n",
    "\tpred[scores > 0] = 1\n",
    "\tacc += np.average( Z_tst[ :, -1 ] == pred )"
   ],
   "outputs": [],
   "execution_count": 3
  },
  {
   "metadata": {},
   "cell_type": "code",
   "outputs": [],
   "execution_count": null,
   "source": ""
  }
 ],
 "metadata": {
  "colab": {
   "provenance": [],
   "toc_visible": true
  },
  "kernelspec": {
   "display_name": "base",
   "language": "python",
   "name": "python3"
  },
  "language_info": {
   "codemirror_mode": {
    "name": "ipython",
    "version": 3
   },
   "file_extension": ".py",
   "mimetype": "text/x-python",
   "name": "python",
   "nbconvert_exporter": "python",
   "pygments_lexer": "ipython3",
   "version": "3.12.2"
  }
 },
 "nbformat": 4,
 "nbformat_minor": 0
}
